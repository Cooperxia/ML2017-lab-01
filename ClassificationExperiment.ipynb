{
 "cells": [
  {
   "cell_type": "code",
   "execution_count": 2,
   "metadata": {},
   "outputs": [
    {
     "name": "stdout",
     "output_type": "stream",
     "text": [
      "0.6840579710144927\n"
     ]
    },
    {
     "data": {
      "image/png": "[encoded data removed]",
      "text/plain": [
       "<matplotlib.figure.Figure at 0x1a009c0b6a0>"
      ]
     },
     "metadata": {},
     "output_type": "display_data"
    }
   ],
   "source": [
    "# -*- coding: utf-8 -*-\n",
    "from numpy import *;\n",
    "import numpy as np\n",
    "from sklearn.externals.joblib import Memory\n",
    "from sklearn.datasets import load_svmlight_file\n",
    "from sklearn.model_selection import train_test_split\n",
    "import matplotlib.pyplot as plt\n",
    "import os\n",
    "\n",
    "def get_data():\n",
    "    data = load_svmlight_file(\"australian_scale.txt\")\n",
    "    return data[0], data[1]\n",
    "\n",
    "X, y = get_data()\n",
    "X=X.toarray()\n",
    "\n",
    "X_train, X_test, y_train, y_test = train_test_split(X, y, test_size=0.5, random_state=42)\n",
    "y_train=mat(y_train).T\n",
    "y_test=mat(y_test).T\n",
    "\n",
    "X_train=mat(np.c_[np.ones(len(X_train)),X_train])\n",
    "X_test=mat(np.c_[np.ones(len(X_test)),X_test])\n",
    "\n",
    "w=mat(random.random((X_train.shape[1],1)))\n",
    "\n",
    "x=[]\n",
    "y1=[]\n",
    "y2=[]\n",
    "C=1000\n",
    "\n",
    "for i in range(0,1000):\n",
    "    der=0\n",
    "    fault=0\n",
    "    yTrain=yTest=w.T*w/2\n",
    "    for j in range(0,X_train.shape[0]):\n",
    "        yTrain=yTrain+C*max(0,1-y_train[j]*w.T*X_train[j].T)\n",
    "        if(1-y_train[j]*w.T*X_train[j].T>=0):\n",
    "            der=der-C*y_train[j].T*X_train[j]\n",
    "        else:\n",
    "            pass\n",
    "    for j in range(0,X_test.shape[0]):\n",
    "        yTest=yTest+C*max(0,1-y_test[j]*w.T*X_test[j].T)\n",
    "        if(y_test[j]*(X_test[j]*w-y_test[j])>0):\n",
    "            fault+=1\n",
    "    \"print(fault/X_test.shape[0])\"\n",
    "    der=der+w.T\n",
    "    der_avarage=der/X_train.shape[0]\n",
    "    w=w-1e-5*der_avarage.T\n",
    "    if i>30:\n",
    "        x.append(i)\n",
    "        y1.append(yTrain[0,0])\n",
    "        y2.append(yTest[0,0])\n",
    "print(fault/X_test.shape[0])\n",
    "plt.plot(x,y1, label='Train_Loss')\n",
    "plt.plot(x,y2, label='Test_Loss')\n",
    "plt.xlabel('Iteration')\n",
    "plt.ylabel('Loss')\n",
    "plt.title('Train-Test ratio:'+str(len(X_train)/len(X_test)))\n",
    "plt.legend()\n",
    "plt.show()\n"
   ]
  },
  {
   "cell_type": "code",
   "execution_count": null,
   "metadata": {
    "collapsed": true
   },
   "outputs": [],
   "source": []
  }
 ],
 "metadata": {
  "kernelspec": {
   "display_name": "Python 3",
   "language": "python",
   "name": "python3"
  },
  "language_info": {
   "codemirror_mode": {
    "name": "ipython",
    "version": 3
   },
   "file_extension": ".py",
   "mimetype": "text/x-python",
   "name": "python",
   "nbconvert_exporter": "python",
   "pygments_lexer": "ipython3",
   "version": "3.6.2"
  }
 },
 "nbformat": 4,
 "nbformat_minor": 2
}
